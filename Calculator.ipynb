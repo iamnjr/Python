{
 "cells": [
  {
   "cell_type": "code",
   "execution_count": 3,
   "id": "0077f9f4",
   "metadata": {},
   "outputs": [],
   "source": [
    "def add(n1,n2):\n",
    "    return(n1+n2)\n",
    "def sub(n1,n2):\n",
    "    return(n1-n2)\n",
    "def mul(n1,n2):\n",
    "    return(n1*n2)\n",
    "def div(n1,n2):\n",
    "    return(n1/n2)\n",
    "def gcd(n1,n2):\n",
    "    if n1 == 0:\n",
    "        return n2\n",
    "    return gcd(n2 % n1, n1)\n",
    "def lcm(n1,n2):\n",
    "    return (n1 / gcd(n1,n2))* n2"
   ]
  },
  {
   "cell_type": "code",
   "execution_count": 6,
   "id": "93190581",
   "metadata": {},
   "outputs": [
    {
     "name": "stdout",
     "output_type": "stream",
     "text": [
      "Enter the number 1 : 2\n",
      "Enter the number 2 : 2\n",
      "Enter the operation : gcd\n",
      "The answer is :  2\n"
     ]
    }
   ],
   "source": [
    "n1 = int(input(\"Enter the number 1 : \"))\n",
    "n2 = int(input(\"Enter the number 2 : \"))\n",
    "operation = input(\"Enter the operation : \" )\n",
    "\n",
    "if operation.lower() == 'add':\n",
    "        print(\"The answer is : \",add(n1,n2))\n",
    "elif operation.lower() == 'sub' or operation == 'subtract' :\n",
    "        print(\"The answer is : \",sub(n1,n2))\n",
    "elif operation.lower() == 'mul' or operation == 'multiply':\n",
    "        print(\"The answer is : \",mul(n1,n2))\n",
    "elif operation.lower() == 'div' or operation == 'divide':\n",
    "        print(\"The answer is : \",div(n1,n2))\n",
    "elif operation.lower() == 'gcd':\n",
    "    print(\"The answer is : \",gcd(n1,n2))\n",
    "elif operation.lower() == 'lcm':\n",
    "    print(\"The answer is : \",lcm(n1,n2))"
   ]
  },
  {
   "cell_type": "code",
   "execution_count": null,
   "id": "4e931e6d",
   "metadata": {},
   "outputs": [],
   "source": [
    "\n"
   ]
  }
 ],
 "metadata": {
  "kernelspec": {
   "display_name": "Python 3",
   "language": "python",
   "name": "python3"
  },
  "language_info": {
   "codemirror_mode": {
    "name": "ipython",
    "version": 3
   },
   "file_extension": ".py",
   "mimetype": "text/x-python",
   "name": "python",
   "nbconvert_exporter": "python",
   "pygments_lexer": "ipython3",
   "version": "3.8.8"
  }
 },
 "nbformat": 4,
 "nbformat_minor": 5
}
