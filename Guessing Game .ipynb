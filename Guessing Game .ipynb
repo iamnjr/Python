{
 "cells": [
  {
   "cell_type": "code",
   "execution_count": 2,
   "id": "036150ae",
   "metadata": {},
   "outputs": [],
   "source": [
    "import random\n",
    "import math"
   ]
  },
  {
   "cell_type": "code",
   "execution_count": 3,
   "id": "52456aef",
   "metadata": {},
   "outputs": [
    {
     "name": "stdout",
     "output_type": "stream",
     "text": [
      " Enter the lower range : 2\n",
      " Enter the upper range :10\n",
      "The number of turns you have are :  3\n",
      " Enter the guessed number : 5\n",
      "Voila!! You guessed it!!!\n"
     ]
    }
   ],
   "source": [
    "#Taking the lower and upper values\n",
    "\n",
    "lower_range = int(input(\" Enter the lower range : \"))\n",
    "upper_range = int(input(\" Enter the upper range :\"))\n",
    "\n",
    "random_value = random.randint(lower_range,upper_range)\n",
    "print(\"The number of turns you have are : \",round(math.log(upper_range - lower_range + 1, 2)))\n",
    "turns = round(math.log(upper_range - lower_range + 1, 2))\n",
    "count = 0\n",
    "while count < turns:\n",
    "    count+=1\n",
    "    guess = int(input(\" Enter the guessed number : \"))\n",
    "    if random_value > guess:\n",
    "        print(\"The guess is small\")\n",
    "    elif random_value < guess:\n",
    "        print(\"The guess is high\")\n",
    "    elif random_value == guess:\n",
    "        print(\"Voila!! You guessed it!!!\")\n",
    "        break\n",
    "if count >= turns:\n",
    "    print(\"The random value is : \",random_value)\n",
    "    print(\"Better luck next Time!!!!!!\")"
   ]
  },
  {
   "cell_type": "code",
   "execution_count": null,
   "id": "dc16d913",
   "metadata": {},
   "outputs": [],
   "source": []
  },
  {
   "cell_type": "code",
   "execution_count": null,
   "id": "686a1e18",
   "metadata": {},
   "outputs": [],
   "source": []
  }
 ],
 "metadata": {
  "kernelspec": {
   "display_name": "Python 3",
   "language": "python",
   "name": "python3"
  },
  "language_info": {
   "codemirror_mode": {
    "name": "ipython",
    "version": 3
   },
   "file_extension": ".py",
   "mimetype": "text/x-python",
   "name": "python",
   "nbconvert_exporter": "python",
   "pygments_lexer": "ipython3",
   "version": "3.8.8"
  }
 },
 "nbformat": 4,
 "nbformat_minor": 5
}
